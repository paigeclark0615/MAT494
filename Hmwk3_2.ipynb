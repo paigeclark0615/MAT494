{
  "nbformat": 4,
  "nbformat_minor": 0,
  "metadata": {
    "colab": {
      "provenance": [],
      "authorship_tag": "ABX9TyMZFDP+M7eYeaBBVEtW8LkL",
      "include_colab_link": true
    },
    "kernelspec": {
      "name": "python3",
      "display_name": "Python 3"
    },
    "language_info": {
      "name": "python"
    }
  },
  "cells": [
    {
      "cell_type": "markdown",
      "metadata": {
        "id": "view-in-github",
        "colab_type": "text"
      },
      "source": [
        "<a href=\"https://colab.research.google.com/github/paigeclark0615/MAT494/blob/main/Hmwk3_2.ipynb\" target=\"_parent\"><img src=\"https://colab.research.google.com/assets/colab-badge.svg\" alt=\"Open In Colab\"/></a>"
      ]
    },
    {
      "cell_type": "code",
      "execution_count": 1,
      "metadata": {
        "colab": {
          "base_uri": "https://localhost:8080/"
        },
        "id": "ajaKPmAiMz49",
        "outputId": "3dd2a0f3-b907-44e3-a007-2ce01474fe60"
      },
      "outputs": [
        {
          "output_type": "stream",
          "name": "stdout",
          "text": [
            "The Limit is: 1\n"
          ]
        }
      ],
      "source": [
        "import sympy as sp\n",
        "x=sp.Symbol('x')\n",
        "f=sp.sin(x)/x\n",
        "L=sp.limit(f,x,0)\n",
        "print(\"The Limit is:\",L)"
      ]
    },
    {
      "cell_type": "code",
      "source": [
        "y=sp.Symbol('y')\n",
        "f=sp.sin(2*y)/y\n",
        "L=sp.limit(f,y,0)\n",
        "print(\"The limit is:\",L)"
      ],
      "metadata": {
        "colab": {
          "base_uri": "https://localhost:8080/"
        },
        "id": "2LJwozNoM9pF",
        "outputId": "8dcefd7e-3009-4321-8fa8-dae0921ac9bd"
      },
      "execution_count": 2,
      "outputs": [
        {
          "output_type": "stream",
          "name": "stdout",
          "text": [
            "The limit is: 2\n"
          ]
        }
      ]
    },
    {
      "cell_type": "code",
      "source": [
        "# Function to combine two\n",
        "def composite_function(f, g):\n",
        "    return lambda x : f(g(x))\n",
        "  \n",
        "# Function to add 2\n",
        "def add(x):\n",
        "    return x + 2\n",
        "  \n",
        "# Function to multiply 2\n",
        "def multiply(x):\n",
        "    return x * 2\n",
        "  \n",
        "# Composite function returns a lambda function\n",
        "add_multiply = composite_function(multiply, add)\n",
        "  \n",
        "print(\"Adding 2 to 5 and multiplying the result with 2: \",\n",
        "      add_multiply(5))"
      ],
      "metadata": {
        "colab": {
          "base_uri": "https://localhost:8080/"
        },
        "id": "aLx1cxJ3NAbD",
        "outputId": "446c1009-3ab4-4368-90d5-c81651210db5"
      },
      "execution_count": 3,
      "outputs": [
        {
          "output_type": "stream",
          "name": "stdout",
          "text": [
            "Adding 2 to 5 and multiplying the result with 2:  14\n"
          ]
        }
      ]
    },
    {
      "cell_type": "code",
      "source": [
        "import sympy as sp\n",
        "x=sp.Symbol('x')\n",
        "f=sp.sin(x)+x**2+sp.exp(4*x)\n",
        "print(f)\n",
        "df=sp.diff(f,x)\n",
        "print(df)\n",
        "ddf=sp.diff(f,x,2)\n",
        "print(ddf)"
      ],
      "metadata": {
        "id": "yFuKBwQMNDYw",
        "outputId": "f0905515-b51e-44ef-bf24-872455120714",
        "colab": {
          "base_uri": "https://localhost:8080/"
        }
      },
      "execution_count": 4,
      "outputs": [
        {
          "output_type": "stream",
          "name": "stdout",
          "text": [
            "x**2 + exp(4*x) + sin(x)\n",
            "2*x + 4*exp(4*x) + cos(x)\n",
            "16*exp(4*x) - sin(x) + 2\n"
          ]
        }
      ]
    }
  ]
}