{
  "nbformat": 4,
  "nbformat_minor": 0,
  "metadata": {
    "colab": {
      "provenance": [],
      "authorship_tag": "ABX9TyO0zaxUzazYCEsuTvnJjrWZ",
      "include_colab_link": true
    },
    "kernelspec": {
      "name": "python3",
      "display_name": "Python 3"
    },
    "language_info": {
      "name": "python"
    }
  },
  "cells": [
    {
      "cell_type": "markdown",
      "metadata": {
        "id": "view-in-github",
        "colab_type": "text"
      },
      "source": [
        "<a href=\"https://colab.research.google.com/github/paigeclark0615/MAT494/blob/main/Hmwk3_3.ipynb\" target=\"_parent\"><img src=\"https://colab.research.google.com/assets/colab-badge.svg\" alt=\"Open In Colab\"/></a>"
      ]
    },
    {
      "cell_type": "code",
      "source": [
        "import numpy as np\n",
        "from scipy.optimize import minimize\n",
        "def rosen(x):\n",
        "    \"\"\"The Rosenbrock function\"\"\"\n",
        "    return sum(100.0*(x[1:]-x[:-1]**2.0)**2.0 + (1-x[:-1])**2.0)\n",
        "x0 = np.array([1.3, 0.7, 0.8, 1.9, 1.2])\n",
        "res = minimize(rosen, x0, method='nelder-mead',\n",
        "               options={'xatol': 1e-8, 'disp': True})"
      ],
      "metadata": {
        "colab": {
          "base_uri": "https://localhost:8080/"
        },
        "id": "scS3FD7jzDhv",
        "outputId": "a5a7f2d5-81b2-4c27-aaac-df170b14049f"
      },
      "execution_count": 2,
      "outputs": [
        {
          "output_type": "stream",
          "name": "stdout",
          "text": [
            "Optimization terminated successfully.\n",
            "         Current function value: 0.000000\n",
            "         Iterations: 339\n",
            "         Function evaluations: 571\n"
          ]
        }
      ]
    },
    {
      "cell_type": "code",
      "source": [
        "print(res.x)"
      ],
      "metadata": {
        "colab": {
          "base_uri": "https://localhost:8080/"
        },
        "id": "wq1KDn6azFvT",
        "outputId": "fb9a2162-dde8-4c8a-d928-c49a780d87ff"
      },
      "execution_count": 3,
      "outputs": [
        {
          "output_type": "stream",
          "name": "stdout",
          "text": [
            "[1. 1. 1. 1. 1.]\n"
          ]
        }
      ]
    },
    {
      "cell_type": "code",
      "source": [
        "def rosen_der(x):\n",
        "    xm = x[1:-1]\n",
        "    xm_m1 = x[:-2]\n",
        "    xm_p1 = x[2:]\n",
        "    der = np.zeros_like(x)\n",
        "    der[1:-1] = 200*(xm-xm_m1**2) - 400*(xm_p1 - xm**2)*xm - 2*(1-xm)\n",
        "    der[0] = -400*x[0]*(x[1]-x[0]**2) - 2*(1-x[0])\n",
        "    der[-1] = 200*(x[-1]-x[-2]**2)\n",
        "    return der"
      ],
      "metadata": {
        "id": "vN5OGPl7zIal"
      },
      "execution_count": 4,
      "outputs": []
    },
    {
      "cell_type": "code",
      "source": [
        "res = minimize(rosen, x0, method='BFGS', jac=rosen_der,\n",
        "               options={'disp': True})"
      ],
      "metadata": {
        "colab": {
          "base_uri": "https://localhost:8080/"
        },
        "id": "wDzE1UhvzKhp",
        "outputId": "719567be-ff1e-4055-c7e3-b85b9b825b16"
      },
      "execution_count": 5,
      "outputs": [
        {
          "output_type": "stream",
          "name": "stdout",
          "text": [
            "Optimization terminated successfully.\n",
            "         Current function value: 0.000000\n",
            "         Iterations: 25\n",
            "         Function evaluations: 30\n",
            "         Gradient evaluations: 30\n"
          ]
        }
      ]
    },
    {
      "cell_type": "code",
      "source": [
        "res.x"
      ],
      "metadata": {
        "colab": {
          "base_uri": "https://localhost:8080/"
        },
        "id": "9kRdjFq5zM1L",
        "outputId": "085fe30e-38da-49ce-e643-89cb3b81c7ed"
      },
      "execution_count": 6,
      "outputs": [
        {
          "output_type": "execute_result",
          "data": {
            "text/plain": [
              "array([1.00000004, 1.0000001 , 1.00000021, 1.00000044, 1.00000092])"
            ]
          },
          "metadata": {},
          "execution_count": 6
        }
      ]
    },
    {
      "cell_type": "markdown",
      "source": [
        "Hessian Ex:"
      ],
      "metadata": {
        "id": "yysPCIsXzS0F"
      }
    },
    {
      "cell_type": "code",
      "source": [
        "def rosen_hess(x):\n",
        "    x = np.asarray(x)\n",
        "    H = np.diag(-400*x[:-1],1) - np.diag(400*x[:-1],-1)\n",
        "    diagonal = np.zeros_like(x)\n",
        "    diagonal[0] = 1200*x[0]**2-400*x[1]+2\n",
        "    diagonal[-1] = 200\n",
        "    diagonal[1:-1] = 202 + 1200*x[1:-1]**2 - 400*x[2:]\n",
        "    H = H + np.diag(diagonal)\n",
        "    return H"
      ],
      "metadata": {
        "id": "uA168YU-zVH3"
      },
      "execution_count": 7,
      "outputs": []
    },
    {
      "cell_type": "code",
      "source": [
        "res = minimize(rosen, x0, method='Newton-CG',\n",
        "               jac=rosen_der, hess=rosen_hess,\n",
        "               options={'xtol': 1e-8, 'disp': True})"
      ],
      "metadata": {
        "colab": {
          "base_uri": "https://localhost:8080/"
        },
        "id": "aCby3c4kzXto",
        "outputId": "136fa129-2e20-4539-8d09-d4260f0e452f"
      },
      "execution_count": 8,
      "outputs": [
        {
          "output_type": "stream",
          "name": "stdout",
          "text": [
            "Optimization terminated successfully.\n",
            "         Current function value: 0.000000\n",
            "         Iterations: 24\n",
            "         Function evaluations: 33\n",
            "         Gradient evaluations: 33\n",
            "         Hessian evaluations: 24\n"
          ]
        }
      ]
    },
    {
      "cell_type": "code",
      "source": [
        "res.x"
      ],
      "metadata": {
        "colab": {
          "base_uri": "https://localhost:8080/"
        },
        "id": "Lz1JeqxazaFN",
        "outputId": "b0685ecb-218e-46aa-e974-7161a7949230"
      },
      "execution_count": 9,
      "outputs": [
        {
          "output_type": "execute_result",
          "data": {
            "text/plain": [
              "array([1.        , 1.        , 1.        , 0.99999999, 0.99999999])"
            ]
          },
          "metadata": {},
          "execution_count": 9
        }
      ]
    }
  ]
}