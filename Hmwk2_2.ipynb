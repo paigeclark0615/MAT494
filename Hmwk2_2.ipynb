{
  "nbformat": 4,
  "nbformat_minor": 0,
  "metadata": {
    "colab": {
      "provenance": [],
      "authorship_tag": "ABX9TyMB6ARqhpHNmWbXOpuYdX6W",
      "include_colab_link": true
    },
    "kernelspec": {
      "name": "python3",
      "display_name": "Python 3"
    },
    "language_info": {
      "name": "python"
    }
  },
  "cells": [
    {
      "cell_type": "markdown",
      "metadata": {
        "id": "view-in-github",
        "colab_type": "text"
      },
      "source": [
        "<a href=\"https://colab.research.google.com/github/paigeclark0615/MAT494/blob/main/Hmwk2_2.ipynb\" target=\"_parent\"><img src=\"https://colab.research.google.com/assets/colab-badge.svg\" alt=\"Open In Colab\"/></a>"
      ]
    },
    {
      "cell_type": "markdown",
      "source": [
        "2. Probability\n",
        "\n",
        "Here we provide some examples of probability using scipy.\n",
        "Copyright:"
      ],
      "metadata": {
        "id": "TQHuR8l1yzf2"
      }
    },
    {
      "cell_type": "markdown",
      "source": [
        "1. Poisson distribution\n",
        "\n",
        "scipy.stats.poisson = <scipy.stats._discrete_distns.poisson_gen object>\n",
        "\n",
        "A Poisson discrete random variable.\n",
        "\n",
        "As an instance of the rv_discrete class, poisson object inherits from it a collection of generic methods (see below for the full list), and completes them with details specific for this particular distribution.\n",
        "\n",
        "https://docs.scipy.org/doc/scipy/reference/generated/scipy.stats.poisson.html"
      ],
      "metadata": {
        "id": "XUEAlut3zM15"
      }
    },
    {
      "cell_type": "code",
      "source": [
        "from scipy.stats import poisson\n",
        "import matplotlib.pyplot as plt\n",
        "import numpy as np\n",
        "\n",
        "# prepare the figure canvas\n",
        "fig, ax = plt.subplots(1, 1)\n",
        "\n",
        "# display all the plots inline\n",
        "%matplotlib inline "
      ],
      "metadata": {
        "id": "KYmHR3PxzPRK"
      },
      "execution_count": 1,
      "outputs": []
    },
    {
      "cell_type": "code",
      "source": [
        "mu = 0.6\n",
        "mean, var, skew, kurt = poisson.stats(mu, moments='mvsk')"
      ],
      "metadata": {
        "id": "mw5i__7GzSPn"
      },
      "execution_count": 2,
      "outputs": []
    },
    {
      "cell_type": "code",
      "source": [
        "# display the probability mass function (pmf):\n",
        "x = np.arange(poisson.ppf(0.01, mu), poisson.ppf(0.99, mu))\n",
        "ax.plot(x, poisson.pmf(x, mu), 'bo', ms=8, label='poisson pmf')\n",
        "ax.vlines(x, 0, poisson.pmf(x, mu), colors='b', lw=5, alpha=0.5)\n",
        "\n",
        "# display all the plots inline\n",
        "%matplotlib inline "
      ],
      "metadata": {
        "id": "gazPmPD4zURX"
      },
      "execution_count": 3,
      "outputs": []
    },
    {
      "cell_type": "code",
      "source": [
        "# Alternatively, the distribution object can be called (as a function) \n",
        "# to fix the shape and location. \n",
        "# This returns a “frozen” RV object holding the given parameters fixed.\n",
        "\n",
        "# Freeze the distribution and display the frozen pmf:\n",
        "rv = poisson(mu)\n",
        "ax.vlines(x, 0, rv.pmf(x), colors='k', linestyles='-', lw=1, label='frozen pmf')\n",
        "ax.legend(loc='best', frameon=False)\n",
        "\n",
        "# display all the plots inline\n",
        "%matplotlib inline \n",
        "\n",
        "plt.show()"
      ],
      "metadata": {
        "id": "97qBePo-zWgI"
      },
      "execution_count": 4,
      "outputs": []
    },
    {
      "cell_type": "code",
      "source": [
        "# Check accuracy of cdf and ppf:\n",
        "prob = poisson.cdf(x, mu)\n",
        "np.allclose(x, poisson.ppf(prob, mu))"
      ],
      "metadata": {
        "colab": {
          "base_uri": "https://localhost:8080/"
        },
        "id": "PW_D7pEtzYyw",
        "outputId": "43096b7c-5042-42e2-cdd9-cf2b0d789274"
      },
      "execution_count": 5,
      "outputs": [
        {
          "output_type": "execute_result",
          "data": {
            "text/plain": [
              "True"
            ]
          },
          "metadata": {},
          "execution_count": 5
        }
      ]
    },
    {
      "cell_type": "code",
      "source": [
        "# Generate random numbers:\n",
        "r = poisson.rvs(mu, size=1000)"
      ],
      "metadata": {
        "id": "J6USGv82zdq3"
      },
      "execution_count": 6,
      "outputs": []
    },
    {
      "cell_type": "markdown",
      "source": [
        "2. Binomial distribution\n",
        "\n",
        "scipy.stats.binom = <scipy.stats._discrete_distns.binom_gen object>\n",
        "\n",
        "A binomial discrete random variable.\n",
        "\n",
        "As an instance of the rv_discrete class, binom object inherits from it a collection of generic methods (see below for the full list), and completes them with details specific for this particular distribution.\n",
        "\n",
        "https://docs.scipy.org/doc/scipy/reference/generated/scipy.stats.binom.html"
      ],
      "metadata": {
        "id": "lYaUioNszf_M"
      }
    },
    {
      "cell_type": "code",
      "source": [
        "from scipy.stats import binom\n",
        "import matplotlib.pyplot as plt\n",
        "n, p = 5, 0.4\n",
        "mean, var, skew, kurt = binom.stats(n, p, moments='mvsk')\n",
        "\n",
        "# display the probability mass function (pmf):\n",
        "x = np.arange(binom.ppf(0.01, n, p), binom.ppf(0.99, n, p))\n",
        "ax.plot(x, binom.pmf(x, n, p), 'bo', ms=8, label='binom pmf')\n",
        "ax.vlines(x, 0, binom.pmf(x, n, p), colors='b', lw=5, alpha=0.5)"
      ],
      "metadata": {
        "colab": {
          "base_uri": "https://localhost:8080/"
        },
        "id": "kDwMgtNk0Lzn",
        "outputId": "420c4416-f25b-4f8b-8497-32a06ed3e90a"
      },
      "execution_count": 13,
      "outputs": [
        {
          "output_type": "execute_result",
          "data": {
            "text/plain": [
              "<matplotlib.collections.LineCollection at 0x7f6f37ff8110>"
            ]
          },
          "metadata": {},
          "execution_count": 13
        }
      ]
    },
    {
      "cell_type": "code",
      "source": [
        "# Freeze the distribution and display the frozen pmf:\n",
        "rv = binom(n, p)\n",
        "ax.vlines(x, 0, rv.pmf(x), colors='k', linestyles='-', lw=1, label='frozen pmf')\n",
        "ax.legend(loc='best', frameon=False)\n",
        "plt.show()"
      ],
      "metadata": {
        "id": "rydnnymQ0P3O"
      },
      "execution_count": 14,
      "outputs": []
    },
    {
      "cell_type": "code",
      "source": [
        "# Check accuracy of cdf and ppf:\n",
        "prob = binom.cdf(x, n, p)\n",
        "np.allclose(x, binom.ppf(prob, n, p))"
      ],
      "metadata": {
        "colab": {
          "base_uri": "https://localhost:8080/"
        },
        "id": "VxJJ1vjE0SE8",
        "outputId": "9c4aa5e3-0a53-4caf-8638-0099b23f02bd"
      },
      "execution_count": 15,
      "outputs": [
        {
          "output_type": "execute_result",
          "data": {
            "text/plain": [
              "True"
            ]
          },
          "metadata": {},
          "execution_count": 15
        }
      ]
    },
    {
      "cell_type": "code",
      "source": [
        "# Generate random numbers:\n",
        "r = binom.rvs(n, p, size=1000)"
      ],
      "metadata": {
        "id": "lOIC4Nlp0Ts8"
      },
      "execution_count": 16,
      "outputs": []
    }
  ]
}